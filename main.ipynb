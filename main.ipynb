{
 "cells": [
  {
   "cell_type": "code",
   "execution_count": 1,
   "metadata": {},
   "outputs": [],
   "source": [
    "import pandas as pd\n",
    "import numpy as np\n",
    "import math\n",
    "import statistics\n",
    "import sklearn\n",
    "import math"
   ]
  },
  {
   "cell_type": "code",
   "execution_count": 2,
   "metadata": {},
   "outputs": [],
   "source": [
    "import seaborn as sns"
   ]
  },
  {
   "cell_type": "code",
   "execution_count": 3,
   "metadata": {},
   "outputs": [],
   "source": [
    "from sklearn.model_selection import train_test_split\n",
    "from category_encoders import BinaryEncoder, TargetEncoder\n",
    "from sklearn.preprocessing import StandardScaler\n",
    "from sklearn.linear_model import LogisticRegression"
   ]
  },
  {
   "attachments": {},
   "cell_type": "markdown",
   "metadata": {},
   "source": [
    "**Splitting training and testing data**"
   ]
  },
  {
   "cell_type": "code",
   "execution_count": 4,
   "metadata": {},
   "outputs": [],
   "source": [
    "data = pd.read_csv('data.csv')\n",
    "X = data.drop(['satisfaction'], axis=1)\n",
    "Y = data[['satisfaction']]"
   ]
  },
  {
   "cell_type": "code",
   "execution_count": 5,
   "metadata": {},
   "outputs": [],
   "source": [
    "X_train, X_test, Y_train, Y_test = train_test_split(X, Y)\n",
    "X_train, X_valid, Y_train, Y_valid = train_test_split(X_train, Y_train)\n",
    "X_Y_train = X_train.join(Y_train)"
   ]
  },
  {
   "attachments": {},
   "cell_type": "markdown",
   "metadata": {},
   "source": [
    "**Data analysis**"
   ]
  },
  {
   "cell_type": "code",
   "execution_count": 6,
   "metadata": {},
   "outputs": [],
   "source": [
    "numericFactorsWithZero = ['Inflight wifi service', 'Departure/Arrival time convenient', 'Ease of Online booking', 'Gate location', 'Food and drink', 'Online boarding', 'Seat comfort', 'Inflight entertainment', 'On-board service', 'Leg room service', 'Baggage handling', 'Checkin service', 'Cleanliness', 'Departure Delay in Minutes', 'Arrival Delay in Minutes']"
   ]
  },
  {
   "cell_type": "code",
   "execution_count": 7,
   "metadata": {},
   "outputs": [
    {
     "name": "stderr",
     "output_type": "stream",
     "text": [
      "C:\\Users\\logis\\AppData\\Local\\Temp\\ipykernel_21872\\344315668.py:1: FutureWarning: The default value of numeric_only in DataFrame.corr is deprecated. In a future version, it will default to False. Select only valid columns or specify the value of numeric_only to silence this warning.\n",
      "  X_Y_train.corr()\n"
     ]
    },
    {
     "data": {
      "text/html": [
       "<div>\n",
       "<style scoped>\n",
       "    .dataframe tbody tr th:only-of-type {\n",
       "        vertical-align: middle;\n",
       "    }\n",
       "\n",
       "    .dataframe tbody tr th {\n",
       "        vertical-align: top;\n",
       "    }\n",
       "\n",
       "    .dataframe thead th {\n",
       "        text-align: right;\n",
       "    }\n",
       "</style>\n",
       "<table border=\"1\" class=\"dataframe\">\n",
       "  <thead>\n",
       "    <tr style=\"text-align: right;\">\n",
       "      <th></th>\n",
       "      <th>Age</th>\n",
       "      <th>Flight Distance</th>\n",
       "      <th>Inflight wifi service</th>\n",
       "      <th>Departure/Arrival time convenient</th>\n",
       "      <th>Ease of Online booking</th>\n",
       "      <th>Gate location</th>\n",
       "      <th>Food and drink</th>\n",
       "      <th>Online boarding</th>\n",
       "      <th>Seat comfort</th>\n",
       "      <th>Inflight entertainment</th>\n",
       "      <th>On-board service</th>\n",
       "      <th>Leg room service</th>\n",
       "      <th>Baggage handling</th>\n",
       "      <th>Checkin service</th>\n",
       "      <th>Cleanliness</th>\n",
       "      <th>Departure Delay in Minutes</th>\n",
       "      <th>Arrival Delay in Minutes</th>\n",
       "      <th>satisfaction</th>\n",
       "    </tr>\n",
       "  </thead>\n",
       "  <tbody>\n",
       "    <tr>\n",
       "      <th>Age</th>\n",
       "      <td>1.000000</td>\n",
       "      <td>0.102931</td>\n",
       "      <td>0.014524</td>\n",
       "      <td>0.029797</td>\n",
       "      <td>0.020989</td>\n",
       "      <td>0.002146</td>\n",
       "      <td>0.023112</td>\n",
       "      <td>0.207109</td>\n",
       "      <td>0.158909</td>\n",
       "      <td>0.075175</td>\n",
       "      <td>0.055534</td>\n",
       "      <td>0.041092</td>\n",
       "      <td>-0.047678</td>\n",
       "      <td>0.030700</td>\n",
       "      <td>0.050731</td>\n",
       "      <td>-0.008295</td>\n",
       "      <td>-0.011194</td>\n",
       "      <td>0.134927</td>\n",
       "    </tr>\n",
       "    <tr>\n",
       "      <th>Flight Distance</th>\n",
       "      <td>0.102931</td>\n",
       "      <td>1.000000</td>\n",
       "      <td>0.006677</td>\n",
       "      <td>-0.022683</td>\n",
       "      <td>0.063146</td>\n",
       "      <td>0.004069</td>\n",
       "      <td>0.056765</td>\n",
       "      <td>0.219058</td>\n",
       "      <td>0.157682</td>\n",
       "      <td>0.131919</td>\n",
       "      <td>0.114072</td>\n",
       "      <td>0.135679</td>\n",
       "      <td>0.066751</td>\n",
       "      <td>0.077710</td>\n",
       "      <td>0.098798</td>\n",
       "      <td>-0.000746</td>\n",
       "      <td>-0.004661</td>\n",
       "      <td>0.299153</td>\n",
       "    </tr>\n",
       "    <tr>\n",
       "      <th>Inflight wifi service</th>\n",
       "      <td>0.014524</td>\n",
       "      <td>0.006677</td>\n",
       "      <td>1.000000</td>\n",
       "      <td>0.344631</td>\n",
       "      <td>0.712465</td>\n",
       "      <td>0.338559</td>\n",
       "      <td>0.129325</td>\n",
       "      <td>0.455701</td>\n",
       "      <td>0.120999</td>\n",
       "      <td>0.208695</td>\n",
       "      <td>0.119790</td>\n",
       "      <td>0.162518</td>\n",
       "      <td>0.123253</td>\n",
       "      <td>0.043170</td>\n",
       "      <td>0.131698</td>\n",
       "      <td>-0.014483</td>\n",
       "      <td>-0.017830</td>\n",
       "      <td>0.279439</td>\n",
       "    </tr>\n",
       "    <tr>\n",
       "      <th>Departure/Arrival time convenient</th>\n",
       "      <td>0.029797</td>\n",
       "      <td>-0.022683</td>\n",
       "      <td>0.344631</td>\n",
       "      <td>1.000000</td>\n",
       "      <td>0.440564</td>\n",
       "      <td>0.445748</td>\n",
       "      <td>-0.001220</td>\n",
       "      <td>0.068483</td>\n",
       "      <td>0.007472</td>\n",
       "      <td>-0.011271</td>\n",
       "      <td>0.063737</td>\n",
       "      <td>0.006269</td>\n",
       "      <td>0.069799</td>\n",
       "      <td>0.088732</td>\n",
       "      <td>0.009470</td>\n",
       "      <td>0.004266</td>\n",
       "      <td>0.001001</td>\n",
       "      <td>-0.059550</td>\n",
       "    </tr>\n",
       "    <tr>\n",
       "      <th>Ease of Online booking</th>\n",
       "      <td>0.020989</td>\n",
       "      <td>0.063146</td>\n",
       "      <td>0.712465</td>\n",
       "      <td>0.440564</td>\n",
       "      <td>1.000000</td>\n",
       "      <td>0.465468</td>\n",
       "      <td>0.026598</td>\n",
       "      <td>0.400923</td>\n",
       "      <td>0.029310</td>\n",
       "      <td>0.043735</td>\n",
       "      <td>0.036610</td>\n",
       "      <td>0.107791</td>\n",
       "      <td>0.041025</td>\n",
       "      <td>0.008912</td>\n",
       "      <td>0.015677</td>\n",
       "      <td>-0.005017</td>\n",
       "      <td>-0.008421</td>\n",
       "      <td>0.161271</td>\n",
       "    </tr>\n",
       "    <tr>\n",
       "      <th>Gate location</th>\n",
       "      <td>0.002146</td>\n",
       "      <td>0.004069</td>\n",
       "      <td>0.338559</td>\n",
       "      <td>0.445748</td>\n",
       "      <td>0.465468</td>\n",
       "      <td>1.000000</td>\n",
       "      <td>-0.003846</td>\n",
       "      <td>0.004270</td>\n",
       "      <td>0.004277</td>\n",
       "      <td>-0.000531</td>\n",
       "      <td>-0.033290</td>\n",
       "      <td>-0.009521</td>\n",
       "      <td>0.001983</td>\n",
       "      <td>-0.041445</td>\n",
       "      <td>-0.005278</td>\n",
       "      <td>0.003156</td>\n",
       "      <td>0.001682</td>\n",
       "      <td>-0.006424</td>\n",
       "    </tr>\n",
       "    <tr>\n",
       "      <th>Food and drink</th>\n",
       "      <td>0.023112</td>\n",
       "      <td>0.056765</td>\n",
       "      <td>0.129325</td>\n",
       "      <td>-0.001220</td>\n",
       "      <td>0.026598</td>\n",
       "      <td>-0.003846</td>\n",
       "      <td>1.000000</td>\n",
       "      <td>0.234345</td>\n",
       "      <td>0.572563</td>\n",
       "      <td>0.620499</td>\n",
       "      <td>0.055533</td>\n",
       "      <td>0.030416</td>\n",
       "      <td>0.034320</td>\n",
       "      <td>0.080370</td>\n",
       "      <td>0.655223</td>\n",
       "      <td>-0.030185</td>\n",
       "      <td>-0.031608</td>\n",
       "      <td>0.209936</td>\n",
       "    </tr>\n",
       "    <tr>\n",
       "      <th>Online boarding</th>\n",
       "      <td>0.207109</td>\n",
       "      <td>0.219058</td>\n",
       "      <td>0.455701</td>\n",
       "      <td>0.068483</td>\n",
       "      <td>0.400923</td>\n",
       "      <td>0.004270</td>\n",
       "      <td>0.234345</td>\n",
       "      <td>1.000000</td>\n",
       "      <td>0.419923</td>\n",
       "      <td>0.285126</td>\n",
       "      <td>0.156669</td>\n",
       "      <td>0.127846</td>\n",
       "      <td>0.084321</td>\n",
       "      <td>0.206249</td>\n",
       "      <td>0.327517</td>\n",
       "      <td>-0.021667</td>\n",
       "      <td>-0.025120</td>\n",
       "      <td>0.503832</td>\n",
       "    </tr>\n",
       "    <tr>\n",
       "      <th>Seat comfort</th>\n",
       "      <td>0.158909</td>\n",
       "      <td>0.157682</td>\n",
       "      <td>0.120999</td>\n",
       "      <td>0.007472</td>\n",
       "      <td>0.029310</td>\n",
       "      <td>0.004277</td>\n",
       "      <td>0.572563</td>\n",
       "      <td>0.419923</td>\n",
       "      <td>1.000000</td>\n",
       "      <td>0.609412</td>\n",
       "      <td>0.131483</td>\n",
       "      <td>0.101929</td>\n",
       "      <td>0.075249</td>\n",
       "      <td>0.186429</td>\n",
       "      <td>0.676408</td>\n",
       "      <td>-0.029718</td>\n",
       "      <td>-0.030624</td>\n",
       "      <td>0.348724</td>\n",
       "    </tr>\n",
       "    <tr>\n",
       "      <th>Inflight entertainment</th>\n",
       "      <td>0.075175</td>\n",
       "      <td>0.131919</td>\n",
       "      <td>0.208695</td>\n",
       "      <td>-0.011271</td>\n",
       "      <td>0.043735</td>\n",
       "      <td>-0.000531</td>\n",
       "      <td>0.620499</td>\n",
       "      <td>0.285126</td>\n",
       "      <td>0.609412</td>\n",
       "      <td>1.000000</td>\n",
       "      <td>0.420798</td>\n",
       "      <td>0.301117</td>\n",
       "      <td>0.383557</td>\n",
       "      <td>0.117465</td>\n",
       "      <td>0.692236</td>\n",
       "      <td>-0.024110</td>\n",
       "      <td>-0.026355</td>\n",
       "      <td>0.399924</td>\n",
       "    </tr>\n",
       "    <tr>\n",
       "      <th>On-board service</th>\n",
       "      <td>0.055534</td>\n",
       "      <td>0.114072</td>\n",
       "      <td>0.119790</td>\n",
       "      <td>0.063737</td>\n",
       "      <td>0.036610</td>\n",
       "      <td>-0.033290</td>\n",
       "      <td>0.055533</td>\n",
       "      <td>0.156669</td>\n",
       "      <td>0.131483</td>\n",
       "      <td>0.420798</td>\n",
       "      <td>1.000000</td>\n",
       "      <td>0.357953</td>\n",
       "      <td>0.519292</td>\n",
       "      <td>0.243381</td>\n",
       "      <td>0.123980</td>\n",
       "      <td>-0.028300</td>\n",
       "      <td>-0.032293</td>\n",
       "      <td>0.325011</td>\n",
       "    </tr>\n",
       "    <tr>\n",
       "      <th>Leg room service</th>\n",
       "      <td>0.041092</td>\n",
       "      <td>0.135679</td>\n",
       "      <td>0.162518</td>\n",
       "      <td>0.006269</td>\n",
       "      <td>0.107791</td>\n",
       "      <td>-0.009521</td>\n",
       "      <td>0.030416</td>\n",
       "      <td>0.127846</td>\n",
       "      <td>0.101929</td>\n",
       "      <td>0.301117</td>\n",
       "      <td>0.357953</td>\n",
       "      <td>1.000000</td>\n",
       "      <td>0.375018</td>\n",
       "      <td>0.148223</td>\n",
       "      <td>0.096699</td>\n",
       "      <td>0.017381</td>\n",
       "      <td>0.014129</td>\n",
       "      <td>0.313325</td>\n",
       "    </tr>\n",
       "    <tr>\n",
       "      <th>Baggage handling</th>\n",
       "      <td>-0.047678</td>\n",
       "      <td>0.066751</td>\n",
       "      <td>0.123253</td>\n",
       "      <td>0.069799</td>\n",
       "      <td>0.041025</td>\n",
       "      <td>0.001983</td>\n",
       "      <td>0.034320</td>\n",
       "      <td>0.084321</td>\n",
       "      <td>0.075249</td>\n",
       "      <td>0.383557</td>\n",
       "      <td>0.519292</td>\n",
       "      <td>0.375018</td>\n",
       "      <td>1.000000</td>\n",
       "      <td>0.236969</td>\n",
       "      <td>0.100630</td>\n",
       "      <td>-0.000359</td>\n",
       "      <td>-0.003340</td>\n",
       "      <td>0.250449</td>\n",
       "    </tr>\n",
       "    <tr>\n",
       "      <th>Checkin service</th>\n",
       "      <td>0.030700</td>\n",
       "      <td>0.077710</td>\n",
       "      <td>0.043170</td>\n",
       "      <td>0.088732</td>\n",
       "      <td>0.008912</td>\n",
       "      <td>-0.041445</td>\n",
       "      <td>0.080370</td>\n",
       "      <td>0.206249</td>\n",
       "      <td>0.186429</td>\n",
       "      <td>0.117465</td>\n",
       "      <td>0.243381</td>\n",
       "      <td>0.148223</td>\n",
       "      <td>0.236969</td>\n",
       "      <td>1.000000</td>\n",
       "      <td>0.173057</td>\n",
       "      <td>-0.016708</td>\n",
       "      <td>-0.019091</td>\n",
       "      <td>0.238889</td>\n",
       "    </tr>\n",
       "    <tr>\n",
       "      <th>Cleanliness</th>\n",
       "      <td>0.050731</td>\n",
       "      <td>0.098798</td>\n",
       "      <td>0.131698</td>\n",
       "      <td>0.009470</td>\n",
       "      <td>0.015677</td>\n",
       "      <td>-0.005278</td>\n",
       "      <td>0.655223</td>\n",
       "      <td>0.327517</td>\n",
       "      <td>0.676408</td>\n",
       "      <td>0.692236</td>\n",
       "      <td>0.123980</td>\n",
       "      <td>0.096699</td>\n",
       "      <td>0.100630</td>\n",
       "      <td>0.173057</td>\n",
       "      <td>1.000000</td>\n",
       "      <td>-0.014488</td>\n",
       "      <td>-0.014966</td>\n",
       "      <td>0.307378</td>\n",
       "    </tr>\n",
       "    <tr>\n",
       "      <th>Departure Delay in Minutes</th>\n",
       "      <td>-0.008295</td>\n",
       "      <td>-0.000746</td>\n",
       "      <td>-0.014483</td>\n",
       "      <td>0.004266</td>\n",
       "      <td>-0.005017</td>\n",
       "      <td>0.003156</td>\n",
       "      <td>-0.030185</td>\n",
       "      <td>-0.021667</td>\n",
       "      <td>-0.029718</td>\n",
       "      <td>-0.024110</td>\n",
       "      <td>-0.028300</td>\n",
       "      <td>0.017381</td>\n",
       "      <td>-0.000359</td>\n",
       "      <td>-0.016708</td>\n",
       "      <td>-0.014488</td>\n",
       "      <td>1.000000</td>\n",
       "      <td>0.963854</td>\n",
       "      <td>-0.053502</td>\n",
       "    </tr>\n",
       "    <tr>\n",
       "      <th>Arrival Delay in Minutes</th>\n",
       "      <td>-0.011194</td>\n",
       "      <td>-0.004661</td>\n",
       "      <td>-0.017830</td>\n",
       "      <td>0.001001</td>\n",
       "      <td>-0.008421</td>\n",
       "      <td>0.001682</td>\n",
       "      <td>-0.031608</td>\n",
       "      <td>-0.025120</td>\n",
       "      <td>-0.030624</td>\n",
       "      <td>-0.026355</td>\n",
       "      <td>-0.032293</td>\n",
       "      <td>0.014129</td>\n",
       "      <td>-0.003340</td>\n",
       "      <td>-0.019091</td>\n",
       "      <td>-0.014966</td>\n",
       "      <td>0.963854</td>\n",
       "      <td>1.000000</td>\n",
       "      <td>-0.060845</td>\n",
       "    </tr>\n",
       "    <tr>\n",
       "      <th>satisfaction</th>\n",
       "      <td>0.134927</td>\n",
       "      <td>0.299153</td>\n",
       "      <td>0.279439</td>\n",
       "      <td>-0.059550</td>\n",
       "      <td>0.161271</td>\n",
       "      <td>-0.006424</td>\n",
       "      <td>0.209936</td>\n",
       "      <td>0.503832</td>\n",
       "      <td>0.348724</td>\n",
       "      <td>0.399924</td>\n",
       "      <td>0.325011</td>\n",
       "      <td>0.313325</td>\n",
       "      <td>0.250449</td>\n",
       "      <td>0.238889</td>\n",
       "      <td>0.307378</td>\n",
       "      <td>-0.053502</td>\n",
       "      <td>-0.060845</td>\n",
       "      <td>1.000000</td>\n",
       "    </tr>\n",
       "  </tbody>\n",
       "</table>\n",
       "</div>"
      ],
      "text/plain": [
       "                                        Age  Flight Distance  \\\n",
       "Age                                1.000000         0.102931   \n",
       "Flight Distance                    0.102931         1.000000   \n",
       "Inflight wifi service              0.014524         0.006677   \n",
       "Departure/Arrival time convenient  0.029797        -0.022683   \n",
       "Ease of Online booking             0.020989         0.063146   \n",
       "Gate location                      0.002146         0.004069   \n",
       "Food and drink                     0.023112         0.056765   \n",
       "Online boarding                    0.207109         0.219058   \n",
       "Seat comfort                       0.158909         0.157682   \n",
       "Inflight entertainment             0.075175         0.131919   \n",
       "On-board service                   0.055534         0.114072   \n",
       "Leg room service                   0.041092         0.135679   \n",
       "Baggage handling                  -0.047678         0.066751   \n",
       "Checkin service                    0.030700         0.077710   \n",
       "Cleanliness                        0.050731         0.098798   \n",
       "Departure Delay in Minutes        -0.008295        -0.000746   \n",
       "Arrival Delay in Minutes          -0.011194        -0.004661   \n",
       "satisfaction                       0.134927         0.299153   \n",
       "\n",
       "                                   Inflight wifi service  \\\n",
       "Age                                             0.014524   \n",
       "Flight Distance                                 0.006677   \n",
       "Inflight wifi service                           1.000000   \n",
       "Departure/Arrival time convenient               0.344631   \n",
       "Ease of Online booking                          0.712465   \n",
       "Gate location                                   0.338559   \n",
       "Food and drink                                  0.129325   \n",
       "Online boarding                                 0.455701   \n",
       "Seat comfort                                    0.120999   \n",
       "Inflight entertainment                          0.208695   \n",
       "On-board service                                0.119790   \n",
       "Leg room service                                0.162518   \n",
       "Baggage handling                                0.123253   \n",
       "Checkin service                                 0.043170   \n",
       "Cleanliness                                     0.131698   \n",
       "Departure Delay in Minutes                     -0.014483   \n",
       "Arrival Delay in Minutes                       -0.017830   \n",
       "satisfaction                                    0.279439   \n",
       "\n",
       "                                   Departure/Arrival time convenient  \\\n",
       "Age                                                         0.029797   \n",
       "Flight Distance                                            -0.022683   \n",
       "Inflight wifi service                                       0.344631   \n",
       "Departure/Arrival time convenient                           1.000000   \n",
       "Ease of Online booking                                      0.440564   \n",
       "Gate location                                               0.445748   \n",
       "Food and drink                                             -0.001220   \n",
       "Online boarding                                             0.068483   \n",
       "Seat comfort                                                0.007472   \n",
       "Inflight entertainment                                     -0.011271   \n",
       "On-board service                                            0.063737   \n",
       "Leg room service                                            0.006269   \n",
       "Baggage handling                                            0.069799   \n",
       "Checkin service                                             0.088732   \n",
       "Cleanliness                                                 0.009470   \n",
       "Departure Delay in Minutes                                  0.004266   \n",
       "Arrival Delay in Minutes                                    0.001001   \n",
       "satisfaction                                               -0.059550   \n",
       "\n",
       "                                   Ease of Online booking  Gate location  \\\n",
       "Age                                              0.020989       0.002146   \n",
       "Flight Distance                                  0.063146       0.004069   \n",
       "Inflight wifi service                            0.712465       0.338559   \n",
       "Departure/Arrival time convenient                0.440564       0.445748   \n",
       "Ease of Online booking                           1.000000       0.465468   \n",
       "Gate location                                    0.465468       1.000000   \n",
       "Food and drink                                   0.026598      -0.003846   \n",
       "Online boarding                                  0.400923       0.004270   \n",
       "Seat comfort                                     0.029310       0.004277   \n",
       "Inflight entertainment                           0.043735      -0.000531   \n",
       "On-board service                                 0.036610      -0.033290   \n",
       "Leg room service                                 0.107791      -0.009521   \n",
       "Baggage handling                                 0.041025       0.001983   \n",
       "Checkin service                                  0.008912      -0.041445   \n",
       "Cleanliness                                      0.015677      -0.005278   \n",
       "Departure Delay in Minutes                      -0.005017       0.003156   \n",
       "Arrival Delay in Minutes                        -0.008421       0.001682   \n",
       "satisfaction                                     0.161271      -0.006424   \n",
       "\n",
       "                                   Food and drink  Online boarding  \\\n",
       "Age                                      0.023112         0.207109   \n",
       "Flight Distance                          0.056765         0.219058   \n",
       "Inflight wifi service                    0.129325         0.455701   \n",
       "Departure/Arrival time convenient       -0.001220         0.068483   \n",
       "Ease of Online booking                   0.026598         0.400923   \n",
       "Gate location                           -0.003846         0.004270   \n",
       "Food and drink                           1.000000         0.234345   \n",
       "Online boarding                          0.234345         1.000000   \n",
       "Seat comfort                             0.572563         0.419923   \n",
       "Inflight entertainment                   0.620499         0.285126   \n",
       "On-board service                         0.055533         0.156669   \n",
       "Leg room service                         0.030416         0.127846   \n",
       "Baggage handling                         0.034320         0.084321   \n",
       "Checkin service                          0.080370         0.206249   \n",
       "Cleanliness                              0.655223         0.327517   \n",
       "Departure Delay in Minutes              -0.030185        -0.021667   \n",
       "Arrival Delay in Minutes                -0.031608        -0.025120   \n",
       "satisfaction                             0.209936         0.503832   \n",
       "\n",
       "                                   Seat comfort  Inflight entertainment  \\\n",
       "Age                                    0.158909                0.075175   \n",
       "Flight Distance                        0.157682                0.131919   \n",
       "Inflight wifi service                  0.120999                0.208695   \n",
       "Departure/Arrival time convenient      0.007472               -0.011271   \n",
       "Ease of Online booking                 0.029310                0.043735   \n",
       "Gate location                          0.004277               -0.000531   \n",
       "Food and drink                         0.572563                0.620499   \n",
       "Online boarding                        0.419923                0.285126   \n",
       "Seat comfort                           1.000000                0.609412   \n",
       "Inflight entertainment                 0.609412                1.000000   \n",
       "On-board service                       0.131483                0.420798   \n",
       "Leg room service                       0.101929                0.301117   \n",
       "Baggage handling                       0.075249                0.383557   \n",
       "Checkin service                        0.186429                0.117465   \n",
       "Cleanliness                            0.676408                0.692236   \n",
       "Departure Delay in Minutes            -0.029718               -0.024110   \n",
       "Arrival Delay in Minutes              -0.030624               -0.026355   \n",
       "satisfaction                           0.348724                0.399924   \n",
       "\n",
       "                                   On-board service  Leg room service  \\\n",
       "Age                                        0.055534          0.041092   \n",
       "Flight Distance                            0.114072          0.135679   \n",
       "Inflight wifi service                      0.119790          0.162518   \n",
       "Departure/Arrival time convenient          0.063737          0.006269   \n",
       "Ease of Online booking                     0.036610          0.107791   \n",
       "Gate location                             -0.033290         -0.009521   \n",
       "Food and drink                             0.055533          0.030416   \n",
       "Online boarding                            0.156669          0.127846   \n",
       "Seat comfort                               0.131483          0.101929   \n",
       "Inflight entertainment                     0.420798          0.301117   \n",
       "On-board service                           1.000000          0.357953   \n",
       "Leg room service                           0.357953          1.000000   \n",
       "Baggage handling                           0.519292          0.375018   \n",
       "Checkin service                            0.243381          0.148223   \n",
       "Cleanliness                                0.123980          0.096699   \n",
       "Departure Delay in Minutes                -0.028300          0.017381   \n",
       "Arrival Delay in Minutes                  -0.032293          0.014129   \n",
       "satisfaction                               0.325011          0.313325   \n",
       "\n",
       "                                   Baggage handling  Checkin service  \\\n",
       "Age                                       -0.047678         0.030700   \n",
       "Flight Distance                            0.066751         0.077710   \n",
       "Inflight wifi service                      0.123253         0.043170   \n",
       "Departure/Arrival time convenient          0.069799         0.088732   \n",
       "Ease of Online booking                     0.041025         0.008912   \n",
       "Gate location                              0.001983        -0.041445   \n",
       "Food and drink                             0.034320         0.080370   \n",
       "Online boarding                            0.084321         0.206249   \n",
       "Seat comfort                               0.075249         0.186429   \n",
       "Inflight entertainment                     0.383557         0.117465   \n",
       "On-board service                           0.519292         0.243381   \n",
       "Leg room service                           0.375018         0.148223   \n",
       "Baggage handling                           1.000000         0.236969   \n",
       "Checkin service                            0.236969         1.000000   \n",
       "Cleanliness                                0.100630         0.173057   \n",
       "Departure Delay in Minutes                -0.000359        -0.016708   \n",
       "Arrival Delay in Minutes                  -0.003340        -0.019091   \n",
       "satisfaction                               0.250449         0.238889   \n",
       "\n",
       "                                   Cleanliness  Departure Delay in Minutes  \\\n",
       "Age                                   0.050731                   -0.008295   \n",
       "Flight Distance                       0.098798                   -0.000746   \n",
       "Inflight wifi service                 0.131698                   -0.014483   \n",
       "Departure/Arrival time convenient     0.009470                    0.004266   \n",
       "Ease of Online booking                0.015677                   -0.005017   \n",
       "Gate location                        -0.005278                    0.003156   \n",
       "Food and drink                        0.655223                   -0.030185   \n",
       "Online boarding                       0.327517                   -0.021667   \n",
       "Seat comfort                          0.676408                   -0.029718   \n",
       "Inflight entertainment                0.692236                   -0.024110   \n",
       "On-board service                      0.123980                   -0.028300   \n",
       "Leg room service                      0.096699                    0.017381   \n",
       "Baggage handling                      0.100630                   -0.000359   \n",
       "Checkin service                       0.173057                   -0.016708   \n",
       "Cleanliness                           1.000000                   -0.014488   \n",
       "Departure Delay in Minutes           -0.014488                    1.000000   \n",
       "Arrival Delay in Minutes             -0.014966                    0.963854   \n",
       "satisfaction                          0.307378                   -0.053502   \n",
       "\n",
       "                                   Arrival Delay in Minutes  satisfaction  \n",
       "Age                                               -0.011194      0.134927  \n",
       "Flight Distance                                   -0.004661      0.299153  \n",
       "Inflight wifi service                             -0.017830      0.279439  \n",
       "Departure/Arrival time convenient                  0.001001     -0.059550  \n",
       "Ease of Online booking                            -0.008421      0.161271  \n",
       "Gate location                                      0.001682     -0.006424  \n",
       "Food and drink                                    -0.031608      0.209936  \n",
       "Online boarding                                   -0.025120      0.503832  \n",
       "Seat comfort                                      -0.030624      0.348724  \n",
       "Inflight entertainment                            -0.026355      0.399924  \n",
       "On-board service                                  -0.032293      0.325011  \n",
       "Leg room service                                   0.014129      0.313325  \n",
       "Baggage handling                                  -0.003340      0.250449  \n",
       "Checkin service                                   -0.019091      0.238889  \n",
       "Cleanliness                                       -0.014966      0.307378  \n",
       "Departure Delay in Minutes                         0.963854     -0.053502  \n",
       "Arrival Delay in Minutes                           1.000000     -0.060845  \n",
       "satisfaction                                      -0.060845      1.000000  "
      ]
     },
     "execution_count": 7,
     "metadata": {},
     "output_type": "execute_result"
    }
   ],
   "source": [
    "X_Y_train.corr()"
   ]
  },
  {
   "cell_type": "code",
   "execution_count": 8,
   "metadata": {},
   "outputs": [
    {
     "data": {
      "text/html": [
       "<div>\n",
       "<style scoped>\n",
       "    .dataframe tbody tr th:only-of-type {\n",
       "        vertical-align: middle;\n",
       "    }\n",
       "\n",
       "    .dataframe tbody tr th {\n",
       "        vertical-align: top;\n",
       "    }\n",
       "\n",
       "    .dataframe thead th {\n",
       "        text-align: right;\n",
       "    }\n",
       "</style>\n",
       "<table border=\"1\" class=\"dataframe\">\n",
       "  <thead>\n",
       "    <tr style=\"text-align: right;\">\n",
       "      <th></th>\n",
       "      <th>Class</th>\n",
       "      <th>satisfaction</th>\n",
       "    </tr>\n",
       "  </thead>\n",
       "  <tbody>\n",
       "    <tr>\n",
       "      <th>0</th>\n",
       "      <td>Business</td>\n",
       "      <td>0.696543</td>\n",
       "    </tr>\n",
       "    <tr>\n",
       "      <th>1</th>\n",
       "      <td>Eco</td>\n",
       "      <td>0.188876</td>\n",
       "    </tr>\n",
       "    <tr>\n",
       "      <th>2</th>\n",
       "      <td>Eco Plus</td>\n",
       "      <td>0.245889</td>\n",
       "    </tr>\n",
       "  </tbody>\n",
       "</table>\n",
       "</div>"
      ],
      "text/plain": [
       "      Class  satisfaction\n",
       "0  Business      0.696543\n",
       "1       Eco      0.188876\n",
       "2  Eco Plus      0.245889"
      ]
     },
     "execution_count": 8,
     "metadata": {},
     "output_type": "execute_result"
    }
   ],
   "source": [
    "X_Y_train.groupby('Class', as_index=False) \\\n",
    "    .aggregate({'satisfaction': 'mean'})"
   ]
  },
  {
   "cell_type": "code",
   "execution_count": 9,
   "metadata": {},
   "outputs": [
    {
     "data": {
      "text/html": [
       "<div>\n",
       "<style scoped>\n",
       "    .dataframe tbody tr th:only-of-type {\n",
       "        vertical-align: middle;\n",
       "    }\n",
       "\n",
       "    .dataframe tbody tr th {\n",
       "        vertical-align: top;\n",
       "    }\n",
       "\n",
       "    .dataframe thead th {\n",
       "        text-align: right;\n",
       "    }\n",
       "</style>\n",
       "<table border=\"1\" class=\"dataframe\">\n",
       "  <thead>\n",
       "    <tr style=\"text-align: right;\">\n",
       "      <th></th>\n",
       "      <th>Gender</th>\n",
       "      <th>satisfaction</th>\n",
       "    </tr>\n",
       "  </thead>\n",
       "  <tbody>\n",
       "    <tr>\n",
       "      <th>0</th>\n",
       "      <td>Female</td>\n",
       "      <td>0.429499</td>\n",
       "    </tr>\n",
       "    <tr>\n",
       "      <th>1</th>\n",
       "      <td>Male</td>\n",
       "      <td>0.441998</td>\n",
       "    </tr>\n",
       "  </tbody>\n",
       "</table>\n",
       "</div>"
      ],
      "text/plain": [
       "   Gender  satisfaction\n",
       "0  Female      0.429499\n",
       "1    Male      0.441998"
      ]
     },
     "execution_count": 9,
     "metadata": {},
     "output_type": "execute_result"
    }
   ],
   "source": [
    "X_Y_train.groupby('Gender', as_index=False) \\\n",
    "    .aggregate({'satisfaction': 'mean'})"
   ]
  },
  {
   "cell_type": "code",
   "execution_count": 10,
   "metadata": {},
   "outputs": [],
   "source": [
    "numeric_factors_to_use = ['Flight Distance', 'Inflight wifi service', 'Online boarding', 'Seat comfort', 'Inflight entertainment', 'On-board service', 'Leg room service', 'Checkin service']"
   ]
  },
  {
   "cell_type": "code",
   "execution_count": 11,
   "metadata": {},
   "outputs": [
    {
     "name": "stdout",
     "output_type": "stream",
     "text": [
      "['Flight Distance', 'Inflight wifi service', 'Online boarding', 'Seat comfort', 'Inflight entertainment', 'On-board service', 'Leg room service', 'Checkin service', 'Customer Type', 'Type of Travel', 'Class']\n"
     ]
    }
   ],
   "source": [
    "categorial_factors_to_use = ['Customer Type', 'Type of Travel', 'Class']\n",
    "factors_to_use = numeric_factors_to_use + categorial_factors_to_use\n",
    "print(factors_to_use)"
   ]
  },
  {
   "cell_type": "code",
   "execution_count": 12,
   "metadata": {},
   "outputs": [],
   "source": [
    "X_train = X_train[factors_to_use]\n",
    "X_valid = X_valid[factors_to_use]\n",
    "X_test = X_test[factors_to_use]"
   ]
  },
  {
   "cell_type": "code",
   "execution_count": 13,
   "metadata": {},
   "outputs": [],
   "source": [
    "factors_with_zero_to_use = ['Inflight wifi service', 'Online boarding', 'Seat comfort', 'Inflight entertainment', 'On-board service', 'Leg room service', 'Checkin service']"
   ]
  },
  {
   "attachments": {},
   "cell_type": "markdown",
   "metadata": {},
   "source": [
    "**Encoding and scaling**"
   ]
  },
  {
   "cell_type": "code",
   "execution_count": 14,
   "metadata": {},
   "outputs": [
    {
     "name": "stdout",
     "output_type": "stream",
     "text": [
      "Warning: No categorical columns found. Calling 'transform' will only return input data.\n",
      "Warning: No categorical columns found. Calling 'transform' will only return input data.\n",
      "Warning: No categorical columns found. Calling 'transform' will only return input data.\n",
      "Warning: No categorical columns found. Calling 'transform' will only return input data.\n",
      "Warning: No categorical columns found. Calling 'transform' will only return input data.\n",
      "Warning: No categorical columns found. Calling 'transform' will only return input data.\n",
      "Warning: No categorical columns found. Calling 'transform' will only return input data.\n"
     ]
    }
   ],
   "source": [
    "for categor_factor in factors_with_zero_to_use:\n",
    "    encode = TargetEncoder()\n",
    "    encode.fit(X_train[categor_factor], Y_train)\n",
    "    s = categor_factor + \"_encoded\"\n",
    "    X_train[s] = encode.transform(X_train[categor_factor])\n",
    "\n",
    "X_train = X_train.drop(factors_with_zero_to_use, axis='columns')\n"
   ]
  },
  {
   "cell_type": "markdown",
   "metadata": {},
   "source": [
    "['Customer Type', 'Type of Travel', 'Class']"
   ]
  },
  {
   "cell_type": "code",
   "execution_count": 15,
   "metadata": {},
   "outputs": [],
   "source": [
    "for categor_factor in factors_with_zero_to_use:\n",
    "    s = categor_factor + \"_encoded\"\n",
    "    X_valid[s] = encode.transform(X_valid[categor_factor])\n",
    "    X_test[s] = encode.transform(X_test[categor_factor])\n",
    "\n",
    "X_valid = X_valid.drop(factors_with_zero_to_use, axis='columns')\n",
    "X_test = X_test.drop(factors_with_zero_to_use, axis='columns')"
   ]
  },
  {
   "cell_type": "code",
   "execution_count": 16,
   "metadata": {},
   "outputs": [],
   "source": [
    "Customer_encoder = TargetEncoder()\n",
    "Customer_encoder.fit(X_train['Customer Type'], Y_train)\n",
    "X_train['Customer Type'] = Customer_encoder.transform(X_train['Customer Type'])\n",
    "X_valid['Customer Type'] = Customer_encoder.transform(X_valid['Customer Type'])\n",
    "X_test['Customer Type'] = Customer_encoder.transform(X_test['Customer Type'])\n",
    "\n",
    "Travel_encoder = TargetEncoder()\n",
    "Travel_encoder.fit(X_train['Type of Travel'], Y_train)\n",
    "X_train['Type of Travel'] = Travel_encoder.transform(X_train['Type of Travel'])\n",
    "X_valid['Type of Travel'] = Travel_encoder.transform(X_valid['Type of Travel'])\n",
    "X_test['Type of Travel'] = Travel_encoder.transform(X_test['Type of Travel'])\n",
    "\n",
    "Class_encoder = TargetEncoder()\n",
    "Class_encoder.fit(X_train['Class'], Y_train)\n",
    "X_train['Class'] = Class_encoder.transform(X_train['Class'])\n",
    "X_valid['Class'] = Class_encoder.transform(X_valid['Class'])\n",
    "X_test['Class'] = Class_encoder.transform(X_test['Class'])"
   ]
  },
  {
   "cell_type": "code",
   "execution_count": 17,
   "metadata": {},
   "outputs": [],
   "source": [
    "scaler = StandardScaler()\n",
    "scaler.fit(X_train)\n",
    "X_train_scaled = scaler.transform(X_train)\n",
    "X_train_scaledFrame = pd.DataFrame(X_train_scaled)\n",
    "X_valid_scaled = scaler.transform(X_valid)\n",
    "X_valid_scaledFrame = pd.DataFrame(X_valid_scaled)\n",
    "X_test_scaled = scaler.transform(X_test)\n",
    "X_test_scaledFrame = pd.DataFrame(X_test_scaled)"
   ]
  },
  {
   "cell_type": "code",
   "execution_count": 18,
   "metadata": {},
   "outputs": [],
   "source": [
    "\n",
    "Y_train_scaled = np.array(Y_train)"
   ]
  },
  {
   "attachments": {},
   "cell_type": "markdown",
   "metadata": {},
   "source": [
    "**Creating a model**"
   ]
  },
  {
   "cell_type": "code",
   "execution_count": 19,
   "metadata": {},
   "outputs": [
    {
     "name": "stderr",
     "output_type": "stream",
     "text": [
      "c:\\Users\\logis\\AppData\\Local\\Programs\\Python\\Python311\\Lib\\site-packages\\sklearn\\linear_model\\_logistic.py:1173: FutureWarning: `penalty='none'`has been deprecated in 1.2 and will be removed in 1.4. To keep the past behaviour, set `penalty=None`.\n",
      "  warnings.warn(\n",
      "c:\\Users\\logis\\AppData\\Local\\Programs\\Python\\Python311\\Lib\\site-packages\\sklearn\\utils\\validation.py:1143: DataConversionWarning: A column-vector y was passed when a 1d array was expected. Please change the shape of y to (n_samples, ), for example using ravel().\n",
      "  y = column_or_1d(y, warn=True)\n"
     ]
    },
    {
     "data": {
      "text/html": [
       "<style>#sk-container-id-1 {color: black;background-color: white;}#sk-container-id-1 pre{padding: 0;}#sk-container-id-1 div.sk-toggleable {background-color: white;}#sk-container-id-1 label.sk-toggleable__label {cursor: pointer;display: block;width: 100%;margin-bottom: 0;padding: 0.3em;box-sizing: border-box;text-align: center;}#sk-container-id-1 label.sk-toggleable__label-arrow:before {content: \"▸\";float: left;margin-right: 0.25em;color: #696969;}#sk-container-id-1 label.sk-toggleable__label-arrow:hover:before {color: black;}#sk-container-id-1 div.sk-estimator:hover label.sk-toggleable__label-arrow:before {color: black;}#sk-container-id-1 div.sk-toggleable__content {max-height: 0;max-width: 0;overflow: hidden;text-align: left;background-color: #f0f8ff;}#sk-container-id-1 div.sk-toggleable__content pre {margin: 0.2em;color: black;border-radius: 0.25em;background-color: #f0f8ff;}#sk-container-id-1 input.sk-toggleable__control:checked~div.sk-toggleable__content {max-height: 200px;max-width: 100%;overflow: auto;}#sk-container-id-1 input.sk-toggleable__control:checked~label.sk-toggleable__label-arrow:before {content: \"▾\";}#sk-container-id-1 div.sk-estimator input.sk-toggleable__control:checked~label.sk-toggleable__label {background-color: #d4ebff;}#sk-container-id-1 div.sk-label input.sk-toggleable__control:checked~label.sk-toggleable__label {background-color: #d4ebff;}#sk-container-id-1 input.sk-hidden--visually {border: 0;clip: rect(1px 1px 1px 1px);clip: rect(1px, 1px, 1px, 1px);height: 1px;margin: -1px;overflow: hidden;padding: 0;position: absolute;width: 1px;}#sk-container-id-1 div.sk-estimator {font-family: monospace;background-color: #f0f8ff;border: 1px dotted black;border-radius: 0.25em;box-sizing: border-box;margin-bottom: 0.5em;}#sk-container-id-1 div.sk-estimator:hover {background-color: #d4ebff;}#sk-container-id-1 div.sk-parallel-item::after {content: \"\";width: 100%;border-bottom: 1px solid gray;flex-grow: 1;}#sk-container-id-1 div.sk-label:hover label.sk-toggleable__label {background-color: #d4ebff;}#sk-container-id-1 div.sk-serial::before {content: \"\";position: absolute;border-left: 1px solid gray;box-sizing: border-box;top: 0;bottom: 0;left: 50%;z-index: 0;}#sk-container-id-1 div.sk-serial {display: flex;flex-direction: column;align-items: center;background-color: white;padding-right: 0.2em;padding-left: 0.2em;position: relative;}#sk-container-id-1 div.sk-item {position: relative;z-index: 1;}#sk-container-id-1 div.sk-parallel {display: flex;align-items: stretch;justify-content: center;background-color: white;position: relative;}#sk-container-id-1 div.sk-item::before, #sk-container-id-1 div.sk-parallel-item::before {content: \"\";position: absolute;border-left: 1px solid gray;box-sizing: border-box;top: 0;bottom: 0;left: 50%;z-index: -1;}#sk-container-id-1 div.sk-parallel-item {display: flex;flex-direction: column;z-index: 1;position: relative;background-color: white;}#sk-container-id-1 div.sk-parallel-item:first-child::after {align-self: flex-end;width: 50%;}#sk-container-id-1 div.sk-parallel-item:last-child::after {align-self: flex-start;width: 50%;}#sk-container-id-1 div.sk-parallel-item:only-child::after {width: 0;}#sk-container-id-1 div.sk-dashed-wrapped {border: 1px dashed gray;margin: 0 0.4em 0.5em 0.4em;box-sizing: border-box;padding-bottom: 0.4em;background-color: white;}#sk-container-id-1 div.sk-label label {font-family: monospace;font-weight: bold;display: inline-block;line-height: 1.2em;}#sk-container-id-1 div.sk-label-container {text-align: center;}#sk-container-id-1 div.sk-container {/* jupyter's `normalize.less` sets `[hidden] { display: none; }` but bootstrap.min.css set `[hidden] { display: none !important; }` so we also need the `!important` here to be able to override the default hidden behavior on the sphinx rendered scikit-learn.org. See: https://github.com/scikit-learn/scikit-learn/issues/21755 */display: inline-block !important;position: relative;}#sk-container-id-1 div.sk-text-repr-fallback {display: none;}</style><div id=\"sk-container-id-1\" class=\"sk-top-container\"><div class=\"sk-text-repr-fallback\"><pre>LogisticRegression(penalty=&#x27;none&#x27;)</pre><b>In a Jupyter environment, please rerun this cell to show the HTML representation or trust the notebook. <br />On GitHub, the HTML representation is unable to render, please try loading this page with nbviewer.org.</b></div><div class=\"sk-container\" hidden><div class=\"sk-item\"><div class=\"sk-estimator sk-toggleable\"><input class=\"sk-toggleable__control sk-hidden--visually\" id=\"sk-estimator-id-1\" type=\"checkbox\" checked><label for=\"sk-estimator-id-1\" class=\"sk-toggleable__label sk-toggleable__label-arrow\">LogisticRegression</label><div class=\"sk-toggleable__content\"><pre>LogisticRegression(penalty=&#x27;none&#x27;)</pre></div></div></div></div></div>"
      ],
      "text/plain": [
       "LogisticRegression(penalty='none')"
      ]
     },
     "execution_count": 19,
     "metadata": {},
     "output_type": "execute_result"
    }
   ],
   "source": [
    "model = LogisticRegression(penalty='none')\n",
    "model.fit(X_train_scaledFrame, Y_train_scaled)"
   ]
  },
  {
   "cell_type": "code",
   "execution_count": 20,
   "metadata": {},
   "outputs": [
    {
     "name": "stdout",
     "output_type": "stream",
     "text": [
      "0.8703478106136304\n"
     ]
    }
   ],
   "source": [
    "print(model.score(X_train_scaledFrame, Y_train))"
   ]
  },
  {
   "cell_type": "code",
   "execution_count": 21,
   "metadata": {},
   "outputs": [],
   "source": [
    "probs = model.predict_proba(X_train_scaledFrame)"
   ]
  },
  {
   "cell_type": "code",
   "execution_count": 22,
   "metadata": {},
   "outputs": [
    {
     "name": "stdout",
     "output_type": "stream",
     "text": [
      "[0.14664876 0.11975075 0.05528918 ... 0.3600669  0.44263251 0.27894379]\n"
     ]
    }
   ],
   "source": [
    "print(probs[:, 1])"
   ]
  },
  {
   "cell_type": "code",
   "execution_count": 23,
   "metadata": {},
   "outputs": [],
   "source": [
    "from sklearn.metrics import accuracy_score, precision_score, recall_score, f1_score"
   ]
  },
  {
   "cell_type": "code",
   "execution_count": 24,
   "metadata": {},
   "outputs": [
    {
     "name": "stdout",
     "output_type": "stream",
     "text": [
      "0.8343858987651993\n",
      "0.8703478106136304\n",
      "0.863413206749683\n",
      "0.8486514125015978\n"
     ]
    }
   ],
   "source": [
    "print(recall_score(Y_train, model.predict(X_train_scaledFrame)))\n",
    "print(accuracy_score(Y_train, model.predict(X_train_scaledFrame)))\n",
    "print(precision_score(Y_train, model.predict(X_train_scaledFrame)))\n",
    "print(f1_score(Y_train, model.predict(X_train_scaledFrame)))"
   ]
  },
  {
   "cell_type": "code",
   "execution_count": 25,
   "metadata": {},
   "outputs": [
    {
     "name": "stdout",
     "output_type": "stream",
     "text": [
      "0.8475829383886255 0.483\n"
     ]
    }
   ],
   "source": [
    "def custom_predict(X, threshold):\n",
    "    probs = model.predict_proba(X) \n",
    "    return (probs[:, 1] > threshold).astype(int)\n",
    "\n",
    "i = 0.00\n",
    "mxScore = 0.00\n",
    "mxThreshold = 0.00\n",
    "while i < 1.00:\n",
    "    i = round(i, 3)\n",
    "    new_preds = custom_predict(X=X_valid_scaledFrame, threshold=i)\n",
    "    score = f1_score(Y_valid, new_preds)\n",
    "    if score > mxScore:\n",
    "        mxScore = score\n",
    "        mxThreshold = i\n",
    "    i += 0.001\n",
    "print(mxScore, mxThreshold)"
   ]
  },
  {
   "cell_type": "markdown",
   "metadata": {},
   "source": [
    "0.84743961352657 0.503\n"
   ]
  },
  {
   "attachments": {},
   "cell_type": "markdown",
   "metadata": {},
   "source": [
    "**Evaluating with testing data**"
   ]
  },
  {
   "cell_type": "code",
   "execution_count": 26,
   "metadata": {},
   "outputs": [],
   "source": [
    "import random\n",
    "from math import floor\n",
    "from copy import deepcopy"
   ]
  },
  {
   "cell_type": "code",
   "execution_count": 27,
   "metadata": {},
   "outputs": [
    {
     "name": "stdout",
     "output_type": "stream",
     "text": [
      "REAL: [ True  True  True ... False  True  True]\n",
      "PREDICTED: [ True  True  True ... False  True  True]\n"
     ]
    }
   ],
   "source": [
    "Y_predicted = model.predict(X_test_scaledFrame)\n",
    "Y_test_array = np.array(Y_test)\n",
    "Y_test_array.T\n",
    "li = []\n",
    "for i in Y_test_array:\n",
    "    li.append(i[0])\n",
    "Y_test_array = np.array(li)\n",
    "print(\"REAL:\", Y_test_array)\n",
    "print(\"PREDICTED:\", Y_predicted)"
   ]
  },
  {
   "attachments": {},
   "cell_type": "markdown",
   "metadata": {},
   "source": [
    "**Bootstrap**\n"
   ]
  },
  {
   "cell_type": "code",
   "execution_count": 28,
   "metadata": {},
   "outputs": [],
   "source": [
    "class ChoicesNRandom():    \n",
    "    def __init__(self, seed=None, n=1):\n",
    "        import random\n",
    "        \n",
    "        self._random_gen = random.Random(seed)\n",
    "        self._choices_cnt = 0\n",
    "        self._n = n\n",
    "        \n",
    "    def choices(self, *args, **kwargs):\n",
    "            \n",
    "        self._choices_cnt += 1\n",
    "        return self._random_gen.choices(*args, **kwargs)\n",
    "\n",
    "\n",
    "def round_to_3(x):\n",
    "    return round(x, 3)\n",
    "\n",
    "\n",
    "def cut_on_edges(l, fraction_to_cut):  \n",
    "    to_cut = floor(len(l) * fraction_to_cut)\n",
    "    return l[to_cut:len(l) - to_cut]\n",
    "\n",
    "\n",
    "def bootstrap_confidence_interval_solution(y, y_pred, fraction_to_cut, random_gen):\n",
    "    rnd = random.Random()\n",
    "    zipped = list(zip(y, y_pred))\n",
    "    acc, rec, pre, f1 = [], [], [], []\n",
    "    for n in range(10000):\n",
    "        y1, y2 = [], []\n",
    "        obj = random_gen.choices(zipped, k=len(zipped))\n",
    "        for i in obj:\n",
    "            y1.append(i[0])\n",
    "            y2.append(i[1])\n",
    "        acc.append(accuracy_score(y1, y2))\n",
    "        rec.append(recall_score(y1, y2))\n",
    "        pre.append(precision_score(y1, y2))\n",
    "        f1.append(accuracy_score(y1, y2))\n",
    "\n",
    "    acc.sort()\n",
    "    rec.sort()\n",
    "    pre.sort()\n",
    "    f1.sort()\n",
    "    res = []\n",
    "\n",
    "    cutted = cut_on_edges(acc, fraction_to_cut)\n",
    "    a, b = cutted[0], cutted[-1]\n",
    "    res.append((a,b))\n",
    "    cutted = cut_on_edges(rec, fraction_to_cut)\n",
    "    a, b = cutted[0], cutted[-1]\n",
    "    res.append((a,b))\n",
    "    cutted = cut_on_edges(pre, fraction_to_cut)\n",
    "    a, b = cutted[0], cutted[-1]\n",
    "    res.append((a,b))\n",
    "    cutted = cut_on_edges(f1, fraction_to_cut)\n",
    "    a, b = cutted[0], cutted[-1]\n",
    "    res.append((a,b))\n",
    "    return res"
   ]
  },
  {
   "cell_type": "code",
   "execution_count": 29,
   "metadata": {},
   "outputs": [
    {
     "ename": "KeyboardInterrupt",
     "evalue": "",
     "output_type": "error",
     "traceback": [
      "\u001b[1;31m---------------------------------------------------------------------------\u001b[0m",
      "\u001b[1;31mKeyboardInterrupt\u001b[0m                         Traceback (most recent call last)",
      "Cell \u001b[1;32mIn[29], line 2\u001b[0m\n\u001b[0;32m      1\u001b[0m random_gen \u001b[39m=\u001b[39m ChoicesNRandom(\u001b[39m0\u001b[39m, n\u001b[39m=\u001b[39m\u001b[39m1000\u001b[39m)\n\u001b[1;32m----> 2\u001b[0m \u001b[39mprint\u001b[39m(bootstrap_confidence_interval_solution(Y_test_array, Y_predicted, \u001b[39m0.025\u001b[39;49m, random_gen))   \n",
      "Cell \u001b[1;32mIn[28], line 37\u001b[0m, in \u001b[0;36mbootstrap_confidence_interval_solution\u001b[1;34m(y, y_pred, fraction_to_cut, random_gen)\u001b[0m\n\u001b[0;32m     35\u001b[0m     rec\u001b[39m.\u001b[39mappend(recall_score(y1, y2))\n\u001b[0;32m     36\u001b[0m     pre\u001b[39m.\u001b[39mappend(precision_score(y1, y2))\n\u001b[1;32m---> 37\u001b[0m     f1\u001b[39m.\u001b[39mappend(accuracy_score(y1, y2))\n\u001b[0;32m     39\u001b[0m acc\u001b[39m.\u001b[39msort()\n\u001b[0;32m     40\u001b[0m rec\u001b[39m.\u001b[39msort()\n",
      "File \u001b[1;32mc:\\Users\\logis\\AppData\\Local\\Programs\\Python\\Python311\\Lib\\site-packages\\sklearn\\utils\\_param_validation.py:192\u001b[0m, in \u001b[0;36mvalidate_params.<locals>.decorator.<locals>.wrapper\u001b[1;34m(*args, **kwargs)\u001b[0m\n\u001b[0;32m    187\u001b[0m validate_parameter_constraints(\n\u001b[0;32m    188\u001b[0m     parameter_constraints, params, caller_name\u001b[39m=\u001b[39mfunc\u001b[39m.\u001b[39m\u001b[39m__qualname__\u001b[39m\n\u001b[0;32m    189\u001b[0m )\n\u001b[0;32m    191\u001b[0m \u001b[39mtry\u001b[39;00m:\n\u001b[1;32m--> 192\u001b[0m     \u001b[39mreturn\u001b[39;00m func(\u001b[39m*\u001b[39;49margs, \u001b[39m*\u001b[39;49m\u001b[39m*\u001b[39;49mkwargs)\n\u001b[0;32m    193\u001b[0m \u001b[39mexcept\u001b[39;00m InvalidParameterError \u001b[39mas\u001b[39;00m e:\n\u001b[0;32m    194\u001b[0m     \u001b[39m# When the function is just a wrapper around an estimator, we allow\u001b[39;00m\n\u001b[0;32m    195\u001b[0m     \u001b[39m# the function to delegate validation to the estimator, but we replace\u001b[39;00m\n\u001b[0;32m    196\u001b[0m     \u001b[39m# the name of the estimator by the name of the function in the error\u001b[39;00m\n\u001b[0;32m    197\u001b[0m     \u001b[39m# message to avoid confusion.\u001b[39;00m\n\u001b[0;32m    198\u001b[0m     msg \u001b[39m=\u001b[39m re\u001b[39m.\u001b[39msub(\n\u001b[0;32m    199\u001b[0m         \u001b[39mr\u001b[39m\u001b[39m\"\u001b[39m\u001b[39mparameter of \u001b[39m\u001b[39m\\\u001b[39m\u001b[39mw+ must be\u001b[39m\u001b[39m\"\u001b[39m,\n\u001b[0;32m    200\u001b[0m         \u001b[39mf\u001b[39m\u001b[39m\"\u001b[39m\u001b[39mparameter of \u001b[39m\u001b[39m{\u001b[39;00mfunc\u001b[39m.\u001b[39m\u001b[39m__qualname__\u001b[39m\u001b[39m}\u001b[39;00m\u001b[39m must be\u001b[39m\u001b[39m\"\u001b[39m,\n\u001b[0;32m    201\u001b[0m         \u001b[39mstr\u001b[39m(e),\n\u001b[0;32m    202\u001b[0m     )\n",
      "File \u001b[1;32mc:\\Users\\logis\\AppData\\Local\\Programs\\Python\\Python311\\Lib\\site-packages\\sklearn\\metrics\\_classification.py:221\u001b[0m, in \u001b[0;36maccuracy_score\u001b[1;34m(y_true, y_pred, normalize, sample_weight)\u001b[0m\n\u001b[0;32m    155\u001b[0m \u001b[39m\u001b[39m\u001b[39m\"\"\"Accuracy classification score.\u001b[39;00m\n\u001b[0;32m    156\u001b[0m \n\u001b[0;32m    157\u001b[0m \u001b[39mIn multilabel classification, this function computes subset accuracy:\u001b[39;00m\n\u001b[1;32m   (...)\u001b[0m\n\u001b[0;32m    217\u001b[0m \u001b[39m0.5\u001b[39;00m\n\u001b[0;32m    218\u001b[0m \u001b[39m\"\"\"\u001b[39;00m\n\u001b[0;32m    220\u001b[0m \u001b[39m# Compute accuracy for each possible representation\u001b[39;00m\n\u001b[1;32m--> 221\u001b[0m y_type, y_true, y_pred \u001b[39m=\u001b[39m _check_targets(y_true, y_pred)\n\u001b[0;32m    222\u001b[0m check_consistent_length(y_true, y_pred, sample_weight)\n\u001b[0;32m    223\u001b[0m \u001b[39mif\u001b[39;00m y_type\u001b[39m.\u001b[39mstartswith(\u001b[39m\"\u001b[39m\u001b[39mmultilabel\u001b[39m\u001b[39m\"\u001b[39m):\n",
      "File \u001b[1;32mc:\\Users\\logis\\AppData\\Local\\Programs\\Python\\Python311\\Lib\\site-packages\\sklearn\\metrics\\_classification.py:87\u001b[0m, in \u001b[0;36m_check_targets\u001b[1;34m(y_true, y_pred)\u001b[0m\n\u001b[0;32m     60\u001b[0m \u001b[39m\u001b[39m\u001b[39m\"\"\"Check that y_true and y_pred belong to the same classification task.\u001b[39;00m\n\u001b[0;32m     61\u001b[0m \n\u001b[0;32m     62\u001b[0m \u001b[39mThis converts multiclass or binary types to a common shape, and raises a\u001b[39;00m\n\u001b[1;32m   (...)\u001b[0m\n\u001b[0;32m     84\u001b[0m \u001b[39my_pred : array or indicator matrix\u001b[39;00m\n\u001b[0;32m     85\u001b[0m \u001b[39m\"\"\"\u001b[39;00m\n\u001b[0;32m     86\u001b[0m check_consistent_length(y_true, y_pred)\n\u001b[1;32m---> 87\u001b[0m type_true \u001b[39m=\u001b[39m type_of_target(y_true, input_name\u001b[39m=\u001b[39;49m\u001b[39m\"\u001b[39;49m\u001b[39my_true\u001b[39;49m\u001b[39m\"\u001b[39;49m)\n\u001b[0;32m     88\u001b[0m type_pred \u001b[39m=\u001b[39m type_of_target(y_pred, input_name\u001b[39m=\u001b[39m\u001b[39m\"\u001b[39m\u001b[39my_pred\u001b[39m\u001b[39m\"\u001b[39m)\n\u001b[0;32m     90\u001b[0m y_type \u001b[39m=\u001b[39m {type_true, type_pred}\n",
      "File \u001b[1;32mc:\\Users\\logis\\AppData\\Local\\Programs\\Python\\Python311\\Lib\\site-packages\\sklearn\\utils\\multiclass.py:363\u001b[0m, in \u001b[0;36mtype_of_target\u001b[1;34m(y, input_name)\u001b[0m\n\u001b[0;32m    361\u001b[0m \u001b[39m# Check multiclass\u001b[39;00m\n\u001b[0;32m    362\u001b[0m first_row \u001b[39m=\u001b[39m y[\u001b[39m0\u001b[39m] \u001b[39mif\u001b[39;00m \u001b[39mnot\u001b[39;00m issparse(y) \u001b[39melse\u001b[39;00m y\u001b[39m.\u001b[39mgetrow(\u001b[39m0\u001b[39m)\u001b[39m.\u001b[39mdata\n\u001b[1;32m--> 363\u001b[0m \u001b[39mif\u001b[39;00m xp\u001b[39m.\u001b[39;49munique_values(y)\u001b[39m.\u001b[39mshape[\u001b[39m0\u001b[39m] \u001b[39m>\u001b[39m \u001b[39m2\u001b[39m \u001b[39mor\u001b[39;00m (y\u001b[39m.\u001b[39mndim \u001b[39m==\u001b[39m \u001b[39m2\u001b[39m \u001b[39mand\u001b[39;00m \u001b[39mlen\u001b[39m(first_row) \u001b[39m>\u001b[39m \u001b[39m1\u001b[39m):\n\u001b[0;32m    364\u001b[0m     \u001b[39m# [1, 2, 3] or [[1., 2., 3]] or [[1, 2]]\u001b[39;00m\n\u001b[0;32m    365\u001b[0m     \u001b[39mreturn\u001b[39;00m \u001b[39m\"\u001b[39m\u001b[39mmulticlass\u001b[39m\u001b[39m\"\u001b[39m \u001b[39m+\u001b[39m suffix\n\u001b[0;32m    366\u001b[0m \u001b[39melse\u001b[39;00m:\n",
      "File \u001b[1;32mc:\\Users\\logis\\AppData\\Local\\Programs\\Python\\Python311\\Lib\\site-packages\\sklearn\\utils\\_array_api.py:84\u001b[0m, in \u001b[0;36m_NumPyApiWrapper.unique_values\u001b[1;34m(self, x)\u001b[0m\n\u001b[0;32m     83\u001b[0m \u001b[39mdef\u001b[39;00m \u001b[39munique_values\u001b[39m(\u001b[39mself\u001b[39m, x):\n\u001b[1;32m---> 84\u001b[0m     \u001b[39mreturn\u001b[39;00m numpy\u001b[39m.\u001b[39;49munique(x)\n",
      "File \u001b[1;32m<__array_function__ internals>:200\u001b[0m, in \u001b[0;36munique\u001b[1;34m(*args, **kwargs)\u001b[0m\n",
      "File \u001b[1;32mc:\\Users\\logis\\AppData\\Local\\Programs\\Python\\Python311\\Lib\\site-packages\\numpy\\lib\\arraysetops.py:274\u001b[0m, in \u001b[0;36munique\u001b[1;34m(ar, return_index, return_inverse, return_counts, axis, equal_nan)\u001b[0m\n\u001b[0;32m    272\u001b[0m ar \u001b[39m=\u001b[39m np\u001b[39m.\u001b[39masanyarray(ar)\n\u001b[0;32m    273\u001b[0m \u001b[39mif\u001b[39;00m axis \u001b[39mis\u001b[39;00m \u001b[39mNone\u001b[39;00m:\n\u001b[1;32m--> 274\u001b[0m     ret \u001b[39m=\u001b[39m _unique1d(ar, return_index, return_inverse, return_counts, \n\u001b[0;32m    275\u001b[0m                     equal_nan\u001b[39m=\u001b[39;49mequal_nan)\n\u001b[0;32m    276\u001b[0m     \u001b[39mreturn\u001b[39;00m _unpack_tuple(ret)\n\u001b[0;32m    278\u001b[0m \u001b[39m# axis was specified and not None\u001b[39;00m\n",
      "File \u001b[1;32mc:\\Users\\logis\\AppData\\Local\\Programs\\Python\\Python311\\Lib\\site-packages\\numpy\\lib\\arraysetops.py:336\u001b[0m, in \u001b[0;36m_unique1d\u001b[1;34m(ar, return_index, return_inverse, return_counts, equal_nan)\u001b[0m\n\u001b[0;32m    334\u001b[0m     aux \u001b[39m=\u001b[39m ar[perm]\n\u001b[0;32m    335\u001b[0m \u001b[39melse\u001b[39;00m:\n\u001b[1;32m--> 336\u001b[0m     ar\u001b[39m.\u001b[39msort()\n\u001b[0;32m    337\u001b[0m     aux \u001b[39m=\u001b[39m ar\n\u001b[0;32m    338\u001b[0m mask \u001b[39m=\u001b[39m np\u001b[39m.\u001b[39mempty(aux\u001b[39m.\u001b[39mshape, dtype\u001b[39m=\u001b[39mnp\u001b[39m.\u001b[39mbool_)\n",
      "\u001b[1;31mKeyboardInterrupt\u001b[0m: "
     ]
    }
   ],
   "source": [
    "random_gen = ChoicesNRandom(0, n=1000)\n",
    "print(bootstrap_confidence_interval_solution(Y_test_array, Y_predicted, 0.025, random_gen))   "
   ]
  },
  {
   "attachments": {},
   "cell_type": "markdown",
   "metadata": {},
   "source": [
    "[(0.8668925161687712, 0.8742839544194642), (0.8254683758275814, 0.8377523032562065), (0.8602206263418968, 0.8716569767441861), (0.8668925161687712, 0.8742839544194642)]"
   ]
  },
  {
   "attachments": {},
   "cell_type": "markdown",
   "metadata": {},
   "source": [
    "**RESULTS**"
   ]
  },
  {
   "cell_type": "code",
   "execution_count": null,
   "metadata": {},
   "outputs": [
    {
     "name": "stdout",
     "output_type": "stream",
     "text": [
      "Accuracy: 0.8706190329534955\n",
      "Recall: 0.8317188715265502\n",
      "Precision: 0.8659452296819788\n",
      "F1: 0.848487034298698\n"
     ]
    }
   ],
   "source": [
    "print(\"Accuracy:\", accuracy_score(Y_test_array, Y_predicted))\n",
    "print(\"Recall:\", recall_score(Y_test_array, Y_predicted))\n",
    "print(\"Precision:\", precision_score(Y_test_array, Y_predicted))\n",
    "print(\"F1:\", f1_score(Y_test_array, Y_predicted))"
   ]
  },
  {
   "cell_type": "code",
   "execution_count": null,
   "metadata": {},
   "outputs": [],
   "source": []
  }
 ],
 "metadata": {
  "kernelspec": {
   "display_name": "Python 3",
   "language": "python",
   "name": "python3"
  },
  "language_info": {
   "codemirror_mode": {
    "name": "ipython",
    "version": 3
   },
   "file_extension": ".py",
   "mimetype": "text/x-python",
   "name": "python",
   "nbconvert_exporter": "python",
   "pygments_lexer": "ipython3",
   "version": "3.11.1"
  },
  "orig_nbformat": 4,
  "vscode": {
   "interpreter": {
    "hash": "5858ff348fbbd9f42b5eb815130d150be1c4990e0c6f850ca359f17eb489ae48"
   }
  }
 },
 "nbformat": 4,
 "nbformat_minor": 2
}
